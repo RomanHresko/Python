{
 "cells": [
  {
   "cell_type": "code",
   "execution_count": 11,
   "id": "1e617df9-c501-43c0-b8a8-a7d1c7baf05c",
   "metadata": {},
   "outputs": [],
   "source": [
    "import pandas as pd\n",
    "df = pd.read_csv('Downloads/survey_results_public.csv')"
   ]
  },
  {
   "cell_type": "code",
   "execution_count": 9,
   "id": "3a2e96f9-321f-4efb-b6d1-e56cfe511d4c",
   "metadata": {},
   "outputs": [
    {
     "data": {
      "text/html": [
       "<div>\n",
       "<style scoped>\n",
       "    .dataframe tbody tr th:only-of-type {\n",
       "        vertical-align: middle;\n",
       "    }\n",
       "\n",
       "    .dataframe tbody tr th {\n",
       "        vertical-align: top;\n",
       "    }\n",
       "\n",
       "    .dataframe thead th {\n",
       "        text-align: right;\n",
       "    }\n",
       "</style>\n",
       "<table border=\"1\" class=\"dataframe\">\n",
       "  <thead>\n",
       "    <tr style=\"text-align: right;\">\n",
       "      <th></th>\n",
       "      <th>ResponseId</th>\n",
       "      <th>MainBranch</th>\n",
       "      <th>Age</th>\n",
       "      <th>Employment</th>\n",
       "      <th>RemoteWork</th>\n",
       "      <th>Check</th>\n",
       "      <th>CodingActivities</th>\n",
       "      <th>EdLevel</th>\n",
       "      <th>LearnCode</th>\n",
       "      <th>LearnCodeOnline</th>\n",
       "    </tr>\n",
       "  </thead>\n",
       "  <tbody>\n",
       "    <tr>\n",
       "      <th>0</th>\n",
       "      <td>1</td>\n",
       "      <td>I am a developer by profession</td>\n",
       "      <td>Under 18 years old</td>\n",
       "      <td>Employed, full-time</td>\n",
       "      <td>Remote</td>\n",
       "      <td>Apples</td>\n",
       "      <td>Hobby</td>\n",
       "      <td>Primary/elementary school</td>\n",
       "      <td>Books / Physical media</td>\n",
       "      <td>NaN</td>\n",
       "    </tr>\n",
       "    <tr>\n",
       "      <th>1</th>\n",
       "      <td>2</td>\n",
       "      <td>I am a developer by profession</td>\n",
       "      <td>35-44 years old</td>\n",
       "      <td>Employed, full-time</td>\n",
       "      <td>Remote</td>\n",
       "      <td>Apples</td>\n",
       "      <td>Hobby;Contribute to open-source projects;Other...</td>\n",
       "      <td>Bachelor’s degree (B.A., B.S., B.Eng., etc.)</td>\n",
       "      <td>Books / Physical media;Colleague;On the job tr...</td>\n",
       "      <td>Technical documentation;Blogs;Books;Written Tu...</td>\n",
       "    </tr>\n",
       "    <tr>\n",
       "      <th>2</th>\n",
       "      <td>3</td>\n",
       "      <td>I am a developer by profession</td>\n",
       "      <td>45-54 years old</td>\n",
       "      <td>Employed, full-time</td>\n",
       "      <td>Remote</td>\n",
       "      <td>Apples</td>\n",
       "      <td>Hobby;Contribute to open-source projects;Other...</td>\n",
       "      <td>Master’s degree (M.A., M.S., M.Eng., MBA, etc.)</td>\n",
       "      <td>Books / Physical media;Colleague;On the job tr...</td>\n",
       "      <td>Technical documentation;Blogs;Books;Written Tu...</td>\n",
       "    </tr>\n",
       "    <tr>\n",
       "      <th>3</th>\n",
       "      <td>4</td>\n",
       "      <td>I am learning to code</td>\n",
       "      <td>18-24 years old</td>\n",
       "      <td>Student, full-time</td>\n",
       "      <td>NaN</td>\n",
       "      <td>Apples</td>\n",
       "      <td>NaN</td>\n",
       "      <td>Some college/university study without earning ...</td>\n",
       "      <td>Other online resources (e.g., videos, blogs, f...</td>\n",
       "      <td>Stack Overflow;How-to videos;Interactive tutorial</td>\n",
       "    </tr>\n",
       "    <tr>\n",
       "      <th>4</th>\n",
       "      <td>5</td>\n",
       "      <td>I am a developer by profession</td>\n",
       "      <td>18-24 years old</td>\n",
       "      <td>Student, full-time</td>\n",
       "      <td>NaN</td>\n",
       "      <td>Apples</td>\n",
       "      <td>NaN</td>\n",
       "      <td>Secondary school (e.g. American high school, G...</td>\n",
       "      <td>Other online resources (e.g., videos, blogs, f...</td>\n",
       "      <td>Technical documentation;Blogs;Written Tutorial...</td>\n",
       "    </tr>\n",
       "  </tbody>\n",
       "</table>\n",
       "</div>"
      ],
      "text/plain": [
       "   ResponseId                      MainBranch                 Age  \\\n",
       "0           1  I am a developer by profession  Under 18 years old   \n",
       "1           2  I am a developer by profession     35-44 years old   \n",
       "2           3  I am a developer by profession     45-54 years old   \n",
       "3           4           I am learning to code     18-24 years old   \n",
       "4           5  I am a developer by profession     18-24 years old   \n",
       "\n",
       "            Employment RemoteWork   Check  \\\n",
       "0  Employed, full-time     Remote  Apples   \n",
       "1  Employed, full-time     Remote  Apples   \n",
       "2  Employed, full-time     Remote  Apples   \n",
       "3   Student, full-time        NaN  Apples   \n",
       "4   Student, full-time        NaN  Apples   \n",
       "\n",
       "                                    CodingActivities  \\\n",
       "0                                              Hobby   \n",
       "1  Hobby;Contribute to open-source projects;Other...   \n",
       "2  Hobby;Contribute to open-source projects;Other...   \n",
       "3                                                NaN   \n",
       "4                                                NaN   \n",
       "\n",
       "                                             EdLevel  \\\n",
       "0                          Primary/elementary school   \n",
       "1       Bachelor’s degree (B.A., B.S., B.Eng., etc.)   \n",
       "2    Master’s degree (M.A., M.S., M.Eng., MBA, etc.)   \n",
       "3  Some college/university study without earning ...   \n",
       "4  Secondary school (e.g. American high school, G...   \n",
       "\n",
       "                                           LearnCode  \\\n",
       "0                             Books / Physical media   \n",
       "1  Books / Physical media;Colleague;On the job tr...   \n",
       "2  Books / Physical media;Colleague;On the job tr...   \n",
       "3  Other online resources (e.g., videos, blogs, f...   \n",
       "4  Other online resources (e.g., videos, blogs, f...   \n",
       "\n",
       "                                     LearnCodeOnline  \n",
       "0                                                NaN  \n",
       "1  Technical documentation;Blogs;Books;Written Tu...  \n",
       "2  Technical documentation;Blogs;Books;Written Tu...  \n",
       "3  Stack Overflow;How-to videos;Interactive tutorial  \n",
       "4  Technical documentation;Blogs;Written Tutorial...  "
      ]
     },
     "execution_count": 9,
     "metadata": {},
     "output_type": "execute_result"
    }
   ],
   "source": [
    "df.iloc[:, 0:10].head()\n"
   ]
  },
  {
   "cell_type": "code",
   "execution_count": 16,
   "id": "03519062-0bd6-4780-af8e-5590920ee392",
   "metadata": {},
   "outputs": [
    {
     "data": {
      "text/plain": [
       "(65437, 114)"
      ]
     },
     "execution_count": 16,
     "metadata": {},
     "output_type": "execute_result"
    }
   ],
   "source": [
    "df.shape"
   ]
  },
  {
   "cell_type": "code",
   "execution_count": 22,
   "id": "ea9557ac-7586-4042-b98c-ea42f0e46d49",
   "metadata": {
    "scrolled": true
   },
   "outputs": [
    {
     "data": {
      "text/plain": [
       "array([    1,     2,     3, ..., 65435, 65436, 65437], dtype=int64)"
      ]
     },
     "execution_count": 22,
     "metadata": {},
     "output_type": "execute_result"
    }
   ],
   "source": [
    "df.ResponseId.unique()"
   ]
  },
  {
   "cell_type": "code",
   "execution_count": 24,
   "id": "fbff40a7-2a22-4b3c-b25c-2daca893f558",
   "metadata": {},
   "outputs": [
    {
     "data": {
      "text/plain": [
       "65437"
      ]
     },
     "execution_count": 24,
     "metadata": {},
     "output_type": "execute_result"
    }
   ],
   "source": [
    "df.ResponseId.nunique()"
   ]
  },
  {
   "cell_type": "code",
   "execution_count": 108,
   "id": "617fd476-508b-429d-a49d-bdaba426c4d2",
   "metadata": {},
   "outputs": [
    {
     "data": {
      "text/plain": [
       "65437"
      ]
     },
     "execution_count": 108,
     "metadata": {},
     "output_type": "execute_result"
    }
   ],
   "source": [
    "len(df.ResponseId.unique())\n"
   ]
  },
  {
   "cell_type": "markdown",
   "id": "79c2f642-60c6-4e9a-a32f-80480a5ec935",
   "metadata": {},
   "source": [
    "## 1.Кількість респондентів що пройшли опитування складає 65437"
   ]
  },
  {
   "cell_type": "code",
   "execution_count": 32,
   "id": "f621a867-22fd-4fcb-bf00-3939891d265d",
   "metadata": {},
   "outputs": [
    {
     "data": {
      "text/html": [
       "<div>\n",
       "<style scoped>\n",
       "    .dataframe tbody tr th:only-of-type {\n",
       "        vertical-align: middle;\n",
       "    }\n",
       "\n",
       "    .dataframe tbody tr th {\n",
       "        vertical-align: top;\n",
       "    }\n",
       "\n",
       "    .dataframe thead th {\n",
       "        text-align: right;\n",
       "    }\n",
       "</style>\n",
       "<table border=\"1\" class=\"dataframe\">\n",
       "  <thead>\n",
       "    <tr style=\"text-align: right;\">\n",
       "      <th></th>\n",
       "      <th>ResponseId</th>\n",
       "      <th>MainBranch</th>\n",
       "      <th>Age</th>\n",
       "      <th>Employment</th>\n",
       "      <th>RemoteWork</th>\n",
       "      <th>Check</th>\n",
       "      <th>CodingActivities</th>\n",
       "      <th>EdLevel</th>\n",
       "      <th>LearnCode</th>\n",
       "      <th>LearnCodeOnline</th>\n",
       "      <th>...</th>\n",
       "      <th>JobSatPoints_6</th>\n",
       "      <th>JobSatPoints_7</th>\n",
       "      <th>JobSatPoints_8</th>\n",
       "      <th>JobSatPoints_9</th>\n",
       "      <th>JobSatPoints_10</th>\n",
       "      <th>JobSatPoints_11</th>\n",
       "      <th>SurveyLength</th>\n",
       "      <th>SurveyEase</th>\n",
       "      <th>ConvertedCompYearly</th>\n",
       "      <th>JobSat</th>\n",
       "    </tr>\n",
       "  </thead>\n",
       "  <tbody>\n",
       "  </tbody>\n",
       "</table>\n",
       "<p>0 rows × 114 columns</p>\n",
       "</div>"
      ],
      "text/plain": [
       "Empty DataFrame\n",
       "Columns: [ResponseId, MainBranch, Age, Employment, RemoteWork, Check, CodingActivities, EdLevel, LearnCode, LearnCodeOnline, TechDoc, YearsCode, YearsCodePro, DevType, OrgSize, PurchaseInfluence, BuyNewTool, BuildvsBuy, TechEndorse, Country, Currency, CompTotal, LanguageHaveWorkedWith, LanguageWantToWorkWith, LanguageAdmired, DatabaseHaveWorkedWith, DatabaseWantToWorkWith, DatabaseAdmired, PlatformHaveWorkedWith, PlatformWantToWorkWith, PlatformAdmired, WebframeHaveWorkedWith, WebframeWantToWorkWith, WebframeAdmired, EmbeddedHaveWorkedWith, EmbeddedWantToWorkWith, EmbeddedAdmired, MiscTechHaveWorkedWith, MiscTechWantToWorkWith, MiscTechAdmired, ToolsTechHaveWorkedWith, ToolsTechWantToWorkWith, ToolsTechAdmired, NEWCollabToolsHaveWorkedWith, NEWCollabToolsWantToWorkWith, NEWCollabToolsAdmired, OpSysPersonal use, OpSysProfessional use, OfficeStackAsyncHaveWorkedWith, OfficeStackAsyncWantToWorkWith, OfficeStackAsyncAdmired, OfficeStackSyncHaveWorkedWith, OfficeStackSyncWantToWorkWith, OfficeStackSyncAdmired, AISearchDevHaveWorkedWith, AISearchDevWantToWorkWith, AISearchDevAdmired, NEWSOSites, SOVisitFreq, SOAccount, SOPartFreq, SOHow, SOComm, AISelect, AISent, AIBen, AIAcc, AIComplex, AIToolCurrently Using, AIToolInterested in Using, AIToolNot interested in Using, AINextMuch more integrated, AINextNo change, AINextMore integrated, AINextLess integrated, AINextMuch less integrated, AIThreat, AIEthics, AIChallenges, TBranch, ICorPM, WorkExp, Knowledge_1, Knowledge_2, Knowledge_3, Knowledge_4, Knowledge_5, Knowledge_6, Knowledge_7, Knowledge_8, Knowledge_9, Frequency_1, Frequency_2, Frequency_3, TimeSearching, TimeAnswering, Frustration, ProfessionalTech, ProfessionalCloud, ProfessionalQuestion, ...]\n",
       "Index: []\n",
       "\n",
       "[0 rows x 114 columns]"
      ]
     },
     "execution_count": 32,
     "metadata": {},
     "output_type": "execute_result"
    }
   ],
   "source": [
    "df.dropna(axis = 0)"
   ]
  },
  {
   "cell_type": "code",
   "execution_count": 87,
   "id": "46533bb7-56f1-4cda-8574-7c916544cd26",
   "metadata": {},
   "outputs": [],
   "source": [
    "import pandas as pd\n",
    "import numpy as np\n",
    "import math"
   ]
  },
  {
   "cell_type": "code",
   "execution_count": 89,
   "id": "e8eee2e4-5e23-44db-ac6e-5080f7f5f23b",
   "metadata": {},
   "outputs": [],
   "source": [
    "df = pd.read_csv('Downloads/survey_results_public.csv')\n",
    "schema = pd.read_csv('Downloads/survey_results_schema.csv')"
   ]
  },
  {
   "cell_type": "code",
   "execution_count": 90,
   "id": "b9a0779e-24cc-40d9-b6bf-7c8297b1c177",
   "metadata": {},
   "outputs": [
    {
     "name": "stdout",
     "output_type": "stream",
     "text": [
      "0          MainBranch\n",
      "1                 Age\n",
      "2          Employment\n",
      "3          RemoteWork\n",
      "4               Check\n",
      "           ...       \n",
      "82     JobSatPoints_7\n",
      "83     JobSatPoints_8\n",
      "84     JobSatPoints_9\n",
      "85    JobSatPoints_10\n",
      "86    JobSatPoints_11\n",
      "Name: qname, Length: 87, dtype: object\n",
      "Index(['ResponseId', 'MainBranch', 'Age', 'Employment', 'RemoteWork', 'Check',\n",
      "       'CodingActivities', 'EdLevel', 'LearnCode', 'LearnCodeOnline',\n",
      "       ...\n",
      "       'JobSatPoints_6', 'JobSatPoints_7', 'JobSatPoints_8', 'JobSatPoints_9',\n",
      "       'JobSatPoints_10', 'JobSatPoints_11', 'SurveyLength', 'SurveyEase',\n",
      "       'ConvertedCompYearly', 'JobSat'],\n",
      "      dtype='object', length=114)\n"
     ]
    }
   ],
   "source": [
    "questions_from_survey = df.columns\n",
    "questions_from_schema = schema.qname\n",
    "print(questions_from_schema)\n",
    "print(questions_from_survey)"
   ]
  },
  {
   "cell_type": "code",
   "execution_count": 91,
   "id": "687b3f19-30bf-47a1-82d2-5ad4fb60ec18",
   "metadata": {},
   "outputs": [
    {
     "name": "stdout",
     "output_type": "stream",
     "text": [
      "{'AISelect', 'YearsCodePro', 'JobSatPoints_7', 'Knowledge_5', 'JobSatPoints_1', 'JobSatPoints_11', 'AIEthics', 'Frustration', 'Knowledge_7', 'AIThreat', 'Knowledge_6', 'Knowledge_9', 'DevType', 'JobSatPoints_6', 'AIComplex', 'JobSatPoints_9', 'Currency', 'SOComm', 'ProfessionalCloud', 'Industry', 'AIAcc', 'ProfessionalQuestion', 'AIBen', 'Knowledge_4', 'RemoteWork', 'TechDoc', 'SOVisitFreq', 'AISent', 'SOAccount', 'EdLevel', 'Frequency_3', 'Frequency_2', 'CompTotal', 'NEWSOSites', 'OrgSize', 'Knowledge_1', 'LearnCodeOnline', 'Country', 'TBranch', 'Frequency_1', 'Check', 'TimeSearching', 'TimeAnswering', 'Employment', 'JobSatPoints_8', 'JobSatPoints_5', 'YearsCode', 'Age', 'AIChallenges', 'LearnCode', 'Knowledge_8', 'SOHow', 'BuildvsBuy', 'SOPartFreq', 'SurveyEase', 'JobSatPoints_10', 'JobSat', 'MainBranch', 'PurchaseInfluence', 'TechEndorse', 'BuyNewTool', 'CodingActivities', 'ICorPM', 'ProfessionalTech', 'Knowledge_2', 'Knowledge_3', 'SurveyLength', 'JobSatPoints_4', 'WorkExp'}\n"
     ]
    }
   ],
   "source": [
    "both = set(questions_from_schema) & set(questions_from_survey)\n",
    "print(both)\n"
   ]
  },
  {
   "cell_type": "code",
   "execution_count": 95,
   "id": "5f11ccc2-4daf-4540-bb5d-a51c61f3292b",
   "metadata": {},
   "outputs": [
    {
     "data": {
      "text/plain": [
       "6306"
      ]
     },
     "execution_count": 95,
     "metadata": {},
     "output_type": "execute_result"
    }
   ],
   "source": [
    "df.dropna(subset = both).shape[0]\n"
   ]
  },
  {
   "cell_type": "markdown",
   "id": "a66d6ac3-41eb-4a56-b590-edc577be5528",
   "metadata": {},
   "source": [
    "## 2.Кількість респондентів що відповіли на всі запитання - 6306\n"
   ]
  },
  {
   "cell_type": "code",
   "execution_count": 13,
   "id": "bd62ec0d-2378-43f5-96e7-16cdb052905e",
   "metadata": {},
   "outputs": [
    {
     "data": {
      "text/plain": [
       "count    29658.000000\n",
       "mean        11.466957\n",
       "std          9.168709\n",
       "min          0.000000\n",
       "25%          4.000000\n",
       "50%          9.000000\n",
       "75%         16.000000\n",
       "max         50.000000\n",
       "Name: WorkExp, dtype: float64"
      ]
     },
     "execution_count": 13,
     "metadata": {},
     "output_type": "execute_result"
    }
   ],
   "source": [
    "df['WorkExp'].describe()"
   ]
  },
  {
   "cell_type": "markdown",
   "id": "ad60301d-1fdd-4895-a4fa-425a249ac7e2",
   "metadata": {},
   "source": [
    "## 3. В результаті розрахунків було з'ясовано що значення мір центральної тенденції для досвіду роботи респондентів наступні (зазначені вище)\n"
   ]
  },
  {
   "cell_type": "code",
   "execution_count": 97,
   "id": "79da1726-ad7d-42c9-8c15-9435f1813d13",
   "metadata": {},
   "outputs": [
    {
     "data": {
      "text/plain": [
       "20831"
      ]
     },
     "execution_count": 97,
     "metadata": {},
     "output_type": "execute_result"
    }
   ],
   "source": [
    "df[df.RemoteWork=='Remote'].shape[0]\n"
   ]
  },
  {
   "cell_type": "markdown",
   "id": "178aa088-9ed9-4a77-8553-1d59b374250f",
   "metadata": {},
   "source": [
    "## 4. Кількість респондентів що працюють віддалено складає - 20831"
   ]
  },
  {
   "cell_type": "code",
   "execution_count": 99,
   "id": "a3fbb5d3-3e96-4657-903c-3ad1ee3cf6d2",
   "metadata": {},
   "outputs": [
    {
     "data": {
      "text/plain": [
       "30795"
      ]
     },
     "execution_count": 99,
     "metadata": {},
     "output_type": "execute_result"
    }
   ],
   "source": [
    "mask = df.LanguageHaveWorkedWith.str.lower().str.contains('python', na = False)\n",
    "df.loc[mask].shape[0]"
   ]
  },
  {
   "cell_type": "markdown",
   "id": "499cb082-76fa-45da-bd81-d5dfbe844e2f",
   "metadata": {},
   "source": [
    "Кількість респондентів що програмує на Python - 30795"
   ]
  },
  {
   "cell_type": "code",
   "execution_count": 15,
   "id": "8464ce3a-b989-4c9e-bc41-7de205bb46ad",
   "metadata": {},
   "outputs": [
    {
     "data": {
      "text/plain": [
       "0.47060531503583597"
      ]
     },
     "execution_count": 15,
     "metadata": {},
     "output_type": "execute_result"
    }
   ],
   "source": [
    "mask = df.LanguageHaveWorkedWith.str.lower().str.contains('python', na = False)\n",
    "df.loc[mask].shape[0] / len(df.ResponseId.unique())"
   ]
  },
  {
   "cell_type": "markdown",
   "id": "7b689f3f-6600-44d7-8f4c-530f0f2ec9c9",
   "metadata": {},
   "source": [
    "## 5. Кількість респондентів що програмує на Python - 47%"
   ]
  },
  {
   "cell_type": "code",
   "execution_count": 105,
   "id": "539d25f5-4285-4d55-a8ff-c8b2323e2c90",
   "metadata": {},
   "outputs": [
    {
     "data": {
      "text/plain": [
       "0                                   Books / Physical media\n",
       "1        Books / Physical media;Colleague;On the job tr...\n",
       "2        Books / Physical media;Colleague;On the job tr...\n",
       "3        Other online resources (e.g., videos, blogs, f...\n",
       "4        Other online resources (e.g., videos, blogs, f...\n",
       "                               ...                        \n",
       "65432    On the job training;School (i.e., University, ...\n",
       "65433                                                  NaN\n",
       "65434    Other online resources (e.g., videos, blogs, f...\n",
       "65435    On the job training;Other online resources (e....\n",
       "65436                                                  NaN\n",
       "Name: LearnCode, Length: 65437, dtype: object"
      ]
     },
     "execution_count": 105,
     "metadata": {},
     "output_type": "execute_result"
    }
   ],
   "source": [
    "df.LearnCode "
   ]
  },
  {
   "cell_type": "code",
   "execution_count": 107,
   "id": "c7b893fe-9378-47f8-b9cb-46bc9d18c4e4",
   "metadata": {},
   "outputs": [
    {
     "data": {
      "text/plain": [
       "54061"
      ]
     },
     "execution_count": 107,
     "metadata": {},
     "output_type": "execute_result"
    }
   ],
   "source": [
    "mask2 = df.LearnCode .str.lower().str.contains('online', na = False)\n",
    "df.loc[mask2].shape[0]"
   ]
  },
  {
   "cell_type": "markdown",
   "id": "5cb0d41f-d421-4935-bca7-bb28d5c2131e",
   "metadata": {},
   "source": [
    "## 6. за допомогою онлайн курсів навчалося програмувати респондентів - 54061 "
   ]
  },
  {
   "cell_type": "code",
   "execution_count": 110,
   "id": "fd630710-a269-449a-b7b4-f9b6a9850696",
   "metadata": {},
   "outputs": [
    {
     "data": {
      "text/plain": [
       "mean      88968.298705\n",
       "median    67911.000000\n",
       "Name: ConvertedCompYearly, dtype: float64"
      ]
     },
     "execution_count": 110,
     "metadata": {},
     "output_type": "execute_result"
    }
   ],
   "source": [
    "df.ConvertedCompYearly[mask].agg(['mean', 'median'])"
   ]
  },
  {
   "cell_type": "code",
   "execution_count": 17,
   "id": "0863281b-605b-4801-9aa2-7a4c6cb9b726",
   "metadata": {},
   "outputs": [
    {
     "data": {
      "text/html": [
       "<div>\n",
       "<style scoped>\n",
       "    .dataframe tbody tr th:only-of-type {\n",
       "        vertical-align: middle;\n",
       "    }\n",
       "\n",
       "    .dataframe tbody tr th {\n",
       "        vertical-align: top;\n",
       "    }\n",
       "\n",
       "    .dataframe thead tr th {\n",
       "        text-align: left;\n",
       "    }\n",
       "\n",
       "    .dataframe thead tr:last-of-type th {\n",
       "        text-align: right;\n",
       "    }\n",
       "</style>\n",
       "<table border=\"1\" class=\"dataframe\">\n",
       "  <thead>\n",
       "    <tr>\n",
       "      <th></th>\n",
       "      <th colspan=\"2\" halign=\"left\">ConvertedCompYearly</th>\n",
       "    </tr>\n",
       "    <tr>\n",
       "      <th></th>\n",
       "      <th>mean</th>\n",
       "      <th>median</th>\n",
       "    </tr>\n",
       "    <tr>\n",
       "      <th>Country</th>\n",
       "      <th></th>\n",
       "      <th></th>\n",
       "    </tr>\n",
       "  </thead>\n",
       "  <tbody>\n",
       "    <tr>\n",
       "      <th>Afghanistan</th>\n",
       "      <td>4543.000000</td>\n",
       "      <td>4768.5</td>\n",
       "    </tr>\n",
       "    <tr>\n",
       "      <th>Albania</th>\n",
       "      <td>56295.000000</td>\n",
       "      <td>56295.0</td>\n",
       "    </tr>\n",
       "    <tr>\n",
       "      <th>Algeria</th>\n",
       "      <td>9053.285714</td>\n",
       "      <td>6230.0</td>\n",
       "    </tr>\n",
       "    <tr>\n",
       "      <th>Andorra</th>\n",
       "      <td>193331.000000</td>\n",
       "      <td>193331.0</td>\n",
       "    </tr>\n",
       "    <tr>\n",
       "      <th>Angola</th>\n",
       "      <td>6.000000</td>\n",
       "      <td>6.0</td>\n",
       "    </tr>\n",
       "    <tr>\n",
       "      <th>...</th>\n",
       "      <td>...</td>\n",
       "      <td>...</td>\n",
       "    </tr>\n",
       "    <tr>\n",
       "      <th>Venezuela, Bolivarian Republic of...</th>\n",
       "      <td>21500.000000</td>\n",
       "      <td>7100.0</td>\n",
       "    </tr>\n",
       "    <tr>\n",
       "      <th>Viet Nam</th>\n",
       "      <td>14014.562500</td>\n",
       "      <td>10180.0</td>\n",
       "    </tr>\n",
       "    <tr>\n",
       "      <th>Yemen</th>\n",
       "      <td>10297.333333</td>\n",
       "      <td>5333.0</td>\n",
       "    </tr>\n",
       "    <tr>\n",
       "      <th>Zambia</th>\n",
       "      <td>28123.666667</td>\n",
       "      <td>22803.0</td>\n",
       "    </tr>\n",
       "    <tr>\n",
       "      <th>Zimbabwe</th>\n",
       "      <td>37500.000000</td>\n",
       "      <td>18000.0</td>\n",
       "    </tr>\n",
       "  </tbody>\n",
       "</table>\n",
       "<p>173 rows × 2 columns</p>\n",
       "</div>"
      ],
      "text/plain": [
       "                                     ConvertedCompYearly          \n",
       "                                                    mean    median\n",
       "Country                                                           \n",
       "Afghanistan                                  4543.000000    4768.5\n",
       "Albania                                     56295.000000   56295.0\n",
       "Algeria                                      9053.285714    6230.0\n",
       "Andorra                                    193331.000000  193331.0\n",
       "Angola                                          6.000000       6.0\n",
       "...                                                  ...       ...\n",
       "Venezuela, Bolivarian Republic of...        21500.000000    7100.0\n",
       "Viet Nam                                    14014.562500   10180.0\n",
       "Yemen                                       10297.333333    5333.0\n",
       "Zambia                                      28123.666667   22803.0\n",
       "Zimbabwe                                    37500.000000   18000.0\n",
       "\n",
       "[173 rows x 2 columns]"
      ]
     },
     "execution_count": 17,
     "metadata": {},
     "output_type": "execute_result"
    }
   ],
   "source": [
    "df[mask].groupby(by = 'Country').agg({'ConvertedCompYearly' : ['mean', 'median']})"
   ]
  },
  {
   "cell_type": "markdown",
   "id": "3a9d0817-3f8e-436d-b693-65c214f9e0d4",
   "metadata": {},
   "source": [
    "## 7. Серед респондентів що програмують на Python в групуванні по країнам, середня та медіанна сума компенсації зазначена вище.\n"
   ]
  },
  {
   "cell_type": "code",
   "execution_count": 19,
   "id": "1431b766-af00-441c-9063-91a9d9ade3c2",
   "metadata": {},
   "outputs": [
    {
     "name": "stdout",
     "output_type": "stream",
     "text": [
      "                                              EdLevel  ConvertedCompYearly\n",
      "15837    Bachelor’s degree (B.A., B.S., B.Eng., etc.)           16256603.0\n",
      "12723  Professional degree (JD, MD, Ph.D, Ed.D, etc.)           13818022.0\n",
      "28379  Professional degree (JD, MD, Ph.D, Ed.D, etc.)            9000000.0\n",
      "17593    Bachelor’s degree (B.A., B.S., B.Eng., etc.)            6340564.0\n",
      "17672  Professional degree (JD, MD, Ph.D, Ed.D, etc.)            4936778.0\n"
     ]
    }
   ],
   "source": [
    "top_5 = df[['EdLevel', 'ConvertedCompYearly']].sort_values(\n",
    "    by='ConvertedCompYearly',\n",
    "    ascending=False\n",
    ").head(5)\n",
    "\n",
    "print(top_5)\n"
   ]
  },
  {
   "cell_type": "markdown",
   "id": "c16a24f1-5667-487a-a462-32e1ad535cb6",
   "metadata": {},
   "source": [
    "## 8. Рівні освіти ТОП 5 респондентів з найбільшою компенсацією (зазначено вище)\n"
   ]
  },
  {
   "cell_type": "code",
   "execution_count": 25,
   "id": "cc2d686c-d291-4405-b3bf-1fd4db4ce32a",
   "metadata": {},
   "outputs": [
    {
     "data": {
      "text/plain": [
       "0        False\n",
       "1         True\n",
       "2        False\n",
       "3         True\n",
       "4         True\n",
       "         ...  \n",
       "65432    False\n",
       "65433    False\n",
       "65434    False\n",
       "65435     True\n",
       "65436     True\n",
       "Name: python, Length: 65437, dtype: bool"
      ]
     },
     "execution_count": 25,
     "metadata": {},
     "output_type": "execute_result"
    }
   ],
   "source": [
    "df['python'] = mask\n",
    "df.python"
   ]
  },
  {
   "cell_type": "code",
   "execution_count": 29,
   "id": "b2d56d85-b514-4a89-a574-6c8ef7ee2fd4",
   "metadata": {},
   "outputs": [],
   "source": [
    "temp_table = df.groupby('Age').agg({'ResponseId' : 'count', 'python' : 'sum'})"
   ]
  },
  {
   "cell_type": "code",
   "execution_count": 31,
   "id": "f1ff94bc-164b-4a42-a053-9b934fd072c3",
   "metadata": {},
   "outputs": [
    {
     "data": {
      "text/plain": [
       "Age\n",
       "18-24 years old       0.559228\n",
       "25-34 years old       0.457739\n",
       "35-44 years old       0.415205\n",
       "45-54 years old       0.419107\n",
       "55-64 years old       0.404272\n",
       "65 years or older     0.375648\n",
       "Prefer not to say     0.453416\n",
       "Under 18 years old    0.648754\n",
       "dtype: float64"
      ]
     },
     "execution_count": 31,
     "metadata": {},
     "output_type": "execute_result"
    }
   ],
   "source": [
    "temp_table = df.groupby('Age').agg({'ResponseId' : 'count', 'python' : 'sum'})\n",
    "temp_table.python / temp_table.ResponseId"
   ]
  },
  {
   "cell_type": "markdown",
   "id": "565c3611-7a5d-4bd7-8d45-97af868b41ff",
   "metadata": {},
   "source": [
    "## 9. Відсоток респондентів що програмує на Python за віковими категоріями."
   ]
  },
  {
   "cell_type": "code",
   "execution_count": 5,
   "id": "5c8f5352-fff3-4a14-bbbe-d66f7b5a4032",
   "metadata": {
    "scrolled": true
   },
   "outputs": [
    {
     "data": {
      "text/plain": [
       "Industry\n",
       "Software Development                          768\n",
       "Other:                                        239\n",
       "Healthcare                                    156\n",
       "Fintech                                       156\n",
       "Internet, Telecomm or Information Services    145\n",
       "Retail and Consumer Services                  106\n",
       "Media & Advertising Services                  103\n",
       "Banking/Financial Services                     69\n",
       "Government                                     69\n",
       "Computer Systems Design and Services           69\n",
       "Transportation, or Supply Chain                67\n",
       "Insurance                                      50\n",
       "Manufacturing                                  48\n",
       "Higher Education                               42\n",
       "Energy                                         36\n",
       "Name: count, dtype: int64"
      ]
     },
     "execution_count": 5,
     "metadata": {},
     "output_type": "execute_result"
    }
   ],
   "source": [
    "df[(df.ConvertedCompYearly > df.ConvertedCompYearly.quantile(0.75)) & (df.RemoteWork == 'Remote')].Industry.value_counts()"
   ]
  },
  {
   "cell_type": "markdown",
   "id": "f9d12000-89a5-458e-975f-1cd89ec7152e",
   "metadata": {},
   "source": [
    "## 10. Найрозповсюдженіші індустрії, серед респондентів що знаходяться в 75 перцентилі за компенсацією середнього і працюють віддалено."
   ]
  }
 ],
 "metadata": {
  "kernelspec": {
   "display_name": "Python [conda env:base] *",
   "language": "python",
   "name": "conda-base-py"
  },
  "language_info": {
   "codemirror_mode": {
    "name": "ipython",
    "version": 3
   },
   "file_extension": ".py",
   "mimetype": "text/x-python",
   "name": "python",
   "nbconvert_exporter": "python",
   "pygments_lexer": "ipython3",
   "version": "3.12.7"
  }
 },
 "nbformat": 4,
 "nbformat_minor": 5
}
